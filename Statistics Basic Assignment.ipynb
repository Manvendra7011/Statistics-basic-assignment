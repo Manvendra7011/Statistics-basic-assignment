{
 "cells": [
  {
   "cell_type": "markdown",
   "id": "eea904fb-7b99-4f93-8309-d5e2b21775da",
   "metadata": {},
   "source": [
    "Question 1: What is the difference between descriptive statistics and inferential statistics? Explain with examples.\n",
    "Answer 1: 1. Descriptive Statistics\n",
    "●\tDefinition: Summarizes and organizes collected data so we can understand it easily.\n",
    "\n",
    "●\tPurpose: To describe what the data shows.\n",
    "\n",
    "●\tTools: Mean, Median, Mode, Standard Deviation, Graphs, Charts, Tables.\n",
    "\n",
    " Example:-  Marks of 50 students in a class:\n",
    "●\tAverage marks = 68\n",
    "\n",
    "●\tHighest marks = 95\n",
    "\n",
    "●\tLowest marks = 32\n",
    "\n",
    "●\tStandard deviation = 10\n",
    "\n",
    "*Here, we only describe the collected data, no prediction about a larger population.\n",
    "________________________________________\n",
    "2. Inferential Statistics\n",
    "●\tDefinition: Makes predictions or conclusions about a population based on a sample.\n",
    "\n",
    "●\tPurpose: To generalize findings beyond the data we have.\n",
    "\n",
    "●\tTools: Hypothesis testing, Confidence intervals, Regression, Correlation.\n",
    "\n",
    " Example:- You survey 100 voters in a city of 10,000:\n",
    "●\t60% of sample prefer Party A → You estimate that roughly 60% of the entire city supports Party A.\n",
    "\n",
    "*Here, we infer population trends from a sample.\n",
    "\n",
    "          \n"
   ]
  },
  {
   "cell_type": "markdown",
   "id": "a802fb3f-3721-45ab-b406-16c338d7defb",
   "metadata": {},
   "source": [
    "Question 2: What is sampling in statistics? Explain the differences between random and stratified sampling.\n",
    "Answer:  Sampling :-  Selecting a small group (sample) from a large population to study and make conclusions.\n",
    "\n",
    "●\tWhy? Studying the whole population is time-consuming, costly, or impossible.\n",
    "\n",
    " Example:\n",
    " A school has 2000 students. Instead of checking marks of all students, you randomly select 200 students and study their performance.\n",
    "________________________________________\n",
    "1. Random Sampling\n",
    "●\tEvery individual in the population has an equal chance of being selected.\n",
    "\n",
    "●\tSimple and unbiased method.\n",
    "\n",
    " Example: Pick 200 students randomly from 2000 students’ roll numbers.\n",
    "________________________________________\n",
    "2. Stratified Sampling\n",
    "●\tPopulation is divided into groups/strata (like gender, class, age).\n",
    "\n",
    "●\tA proportional sample is selected from each group to ensure representation.\n",
    "\n",
    "Example:\n",
    "●\t2000 students → 1000 boys & 1000 girls.\n",
    "\n",
    "\n",
    "\n",
    "\n"
   ]
  },
  {
   "cell_type": "markdown",
   "id": "516b95e1-1850-4603-9bf5-8e2f2f32d593",
   "metadata": {},
   "source": [
    "Question 3: Define mean, median, and mode. Explain why these measures of central tendency are important.\n",
    "Answer: These are statistical tools that indicate the center or average of a dataset.\n",
    "________________________________________\n",
    "1. Mean (Arithmetic Average) :- Sum of all observations divided by the number of observations.\n",
    "\n",
    "●\tFormula: Mean=Sum of observations/Number of observations\n",
    "●\tExample: Marks = 10, 20, 30 → Mean = (10+20+30)/3 = 20\n",
    "\n",
    "________________________________________\n",
    "2. Median :-Middle value of data when arranged in ascending or descending order.\n",
    "\n",
    "●\tExample: 10, 20, 30 → Median = 20\n",
    " If data is even: 10, 20, 30, 40 → Median = (20+30)/2 = 25\n",
    "\n",
    "________________________________________\n",
    "3. Mode :- Most frequently occurring value in the dataset.\n",
    "\n",
    "●\tExample: 2, 4, 4, 6, 7 → Mode = 4\n",
    "\n",
    "________________________________________\n",
    "Importance:-\n",
    "1.\tSummarizes data by representing it with a single value.\n",
    "\n",
    "2.\tShows the central point of the data distribution.\n",
    "\n",
    "3.\tHelps in comparison between different datasets (e.g., average marks of classes).\n",
    "\n",
    "4.\tEach measure has specific uses:\n",
    "\n",
    "○\tMean: Useful for overall average (salary, marks).\n",
    "\n",
    "○\tMedian: Useful when there are extreme values (income distribution).\n",
    "\n",
    "○\tMode: Useful to find the most common value (fashion size, exam scores).\n"
   ]
  },
  {
   "cell_type": "markdown",
   "id": "9cbf7c70-1dbe-43e0-b480-4c74b5759844",
   "metadata": {},
   "source": [
    "Question 4: Explain skewness and kurtosis. What does a positive skew imply about the data?\n",
    "1. Skewness :- Skewness measures the asymmetry of a data distribution around its mean.\n",
    "\n",
    "●\tTypes:\n",
    "\n",
    "○\tPositive skew (right skew): Tail stretches to the right. Most data values are clustered on the left, with few high values on the right.\n",
    "\n",
    "○\tNegative skew (left skew): Tail stretches to the left. Most data values are clustered on the right, with few low values on the left.\n",
    "\n",
    "●\tExample:\n",
    "\n",
    "○\tPositive skew: Income of people in a city → most earn low/average, few earn very high.\n",
    "\n",
    "○\tNegative skew: Age at retirement → most retire around 60, few retire early.\n",
    "\n",
    "●\tImplication of Positive Skew:\n",
    "\n",
    "○\tMean > Median > Mode\n",
    "\n",
    "○\tData is concentrated at lower values with some extremely high values pulling the tail to the right.\n",
    "\n",
    "________________________________________\n",
    "2. Kurtosis :- Kurtosis measures the peakedness or flatness of a distribution compared to a normal distribution.\n",
    "\n",
    "●\tTypes:\n",
    "\n",
    "○\tLeptokurtic: High peak, heavy tails (more extreme values).\n",
    "\n",
    "○\tPlatykurtic: Flat distribution, light tails (less extreme values).\n",
    "\n",
    "○\tMesokurtic: Normal peak (similar to normal distribution).\n",
    "\n",
    "●\tExample:\n",
    "\n",
    "○\tLeptokurtic: Test scores where most students score around average but some score extremely high/low.\n",
    "\n",
    "○\tPlatykurtic: Uniform distribution like rolling a fair die.\n",
    "\n",
    "\n",
    "\n"
   ]
  },
  {
   "cell_type": "code",
   "execution_count": 2,
   "id": "b5aeec60-ab7c-4710-8ec3-6831c1e98259",
   "metadata": {},
   "outputs": [
    {
     "name": "stdout",
     "output_type": "stream",
     "text": [
      "Numbers: [12, 15, 12, 18, 19, 12, 20, 22, 19, 19, 24, 24, 24, 26, 28]\n",
      "Mean: 19.6\n",
      "Median: 19\n",
      "Mode: 12\n"
     ]
    }
   ],
   "source": [
    "# Question 5: Implement a Python program to compute the mean, median, and mode of a given list of numbers.\n",
    "\n",
    "# numbers = [12, 15, 12, 18, 19, 12, 20, 22, 19, 19, 24, 24, 24, 26, 28]\n",
    "\n",
    "# Answer: code:-\n",
    "# Import required modules\n",
    "from statistics import mean, median, mode\n",
    "\n",
    "# Given list of numbers\n",
    "numbers = [12, 15, 12, 18, 19, 12, 20, 22, 19, 19, 24, 24, 24, 26, 28]\n",
    "\n",
    "# Compute mean, median, and mode\n",
    "mean_value = mean(numbers)\n",
    "median_value = median(numbers)\n",
    "mode_value = mode(numbers)\n",
    "\n",
    "# Print results\n",
    "print(\"Numbers:\", numbers)\n",
    "print(\"Mean:\", mean_value)\n",
    "print(\"Median:\", median_value)\n",
    "print(\"Mode:\", mode_value)"
   ]
  },
  {
   "cell_type": "code",
   "execution_count": 3,
   "id": "8c0fff4a-cb7e-48c8-a057-3f499b2f1817",
   "metadata": {},
   "outputs": [
    {
     "name": "stdout",
     "output_type": "stream",
     "text": [
      "List X: [10, 20, 30, 40, 50]\n",
      "List Y: [15, 25, 35, 45, 60]\n",
      "Covariance: 275.0\n",
      "Correlation Coefficient: 0.995893206467704\n"
     ]
    }
   ],
   "source": [
    "# Question 6: Compute the covariance and correlation coefficient between the following two datasets provided as lists in Python:\n",
    "# list_x = [10, 20, 30, 40, 50]\n",
    "# list_y = [15, 25, 35, 45, 60]\n",
    "\n",
    "# Answer: # Import required modules\n",
    "import numpy as np\n",
    "\n",
    "# Given datasets\n",
    "list_x = [10, 20, 30, 40, 50]\n",
    "list_y = [15, 25, 35, 45, 60]\n",
    "\n",
    "# Convert lists to numpy arrays\n",
    "x = np.array(list_x)\n",
    "y = np.array(list_y)\n",
    "\n",
    "# Compute covariance\n",
    "cov_matrix = np.cov(x, y)  # covariance matrix\n",
    "cov_xy = cov_matrix[0, 1]  # covariance between x and y\n",
    "\n",
    "# Compute correlation coefficient\n",
    "corr_matrix = np.corrcoef(x, y)\n",
    "corr_xy = corr_matrix[0, 1]  # correlation coefficient\n",
    "\n",
    "# Print results\n",
    "print(\"List X:\", list_x)\n",
    "print(\"List Y:\", list_y)\n",
    "print(\"Covariance:\", cov_xy)\n",
    "print(\"Correlation Coefficient:\", corr_xy) "
   ]
  },
  {
   "cell_type": "code",
   "execution_count": 4,
   "id": "26092399-c583-4aeb-b8b9-97307638dbce",
   "metadata": {},
   "outputs": [
    {
     "data": {
      "image/png": "[encoded data removed]",
      "text/plain": [
       "<Figure size 640x480 with 1 Axes>"
      ]
     },
     "metadata": {},
     "output_type": "display_data"
    },
    {
     "name": "stdout",
     "output_type": "stream",
     "text": [
      "Data: [12, 14, 14, 15, 18, 19, 19, 21, 22, 22, 23, 23, 24, 26, 29, 35]\n",
      "Q1: 17.25 Q3: 23.25 IQR: 6.0\n",
      "Lower Bound: 8.25 Upper Bound: 32.25\n",
      "Outliers: [35]\n"
     ]
    }
   ],
   "source": [
    "# Question 7: Write a Python script to draw a boxplot for the following numeric list and identify its outliers. Explain the result:\n",
    "\n",
    "# data = [12, 14, 14, 15, 18, 19, 19, 21, 22, 22, 23, 23, 24, 26, 29, 35]\n",
    "\n",
    "# Answer: # Import required libraries\n",
    "import matplotlib.pyplot as plt\n",
    "\n",
    "# Given dataset\n",
    "data = [12, 14, 14, 15, 18, 19, 19, 21, 22, 22, 23, 23, 24, 26, 29, 35]\n",
    "\n",
    "# Draw boxplot\n",
    "plt.boxplot(data, vert=True, patch_artist=True)\n",
    "plt.title(\"Boxplot of the Data\")\n",
    "plt.ylabel(\"Values\")\n",
    "plt.show()\n",
    "\n",
    "# Identify outliers using IQR method\n",
    "Q1 = np.percentile(data, 25)  # 1st quartile\n",
    "Q3 = np.percentile(data, 75)  # 3rd quartile\n",
    "IQR = Q3 - Q1                  # Interquartile range\n",
    "\n",
    "lower_bound = Q1 - 1.5 * IQR\n",
    "upper_bound = Q3 + 1.5 * IQR\n",
    "\n",
    "# Find outliers\n",
    "outliers = [x for x in data if x < lower_bound or x > upper_bound]\n",
    "\n",
    "print(\"Data:\", data)\n",
    "print(\"Q1:\", Q1, \"Q3:\", Q3, \"IQR:\", IQR)\n",
    "print(\"Lower Bound:\", lower_bound, \"Upper Bound:\", upper_bound)\n",
    "print(\"Outliers:\", outliers)"
   ]
  },
  {
   "cell_type": "markdown",
   "id": "c08476bc-0409-45ea-a37c-6fec0be7e033",
   "metadata": {},
   "source": [
    "Question 8: You are working as a data analyst in an e-commerce company. The marketing team wants to know if there is a relationship between advertising spend and daily sales.\n",
    "●\tExplain how you would use covariance and correlation to explore this relationship.\n",
    "●\tWrite Python code to compute the correlation between the two lists:\n",
    "\n",
    "advertising_spend = [200, 250, 300, 400, 500]\n",
    "\n",
    "daily_sales = [2200, 2450, 2750, 3200, 4000]\n",
    "\n",
    "Answer: Covariance:\n",
    "\n",
    "●\tMeasures how two variables vary together.\n",
    "\n",
    "●\tPositive covariance → when advertising spend increases, sales tend to increase.\n",
    "\n",
    "●\tNegative covariance → when advertising spend increases, sales tend to decrease.\n",
    "\n",
    "●\tLimitation: Not standardized; hard to compare magnitude.\n",
    "\n",
    "Correlation Coefficient (r):\n",
    "\n",
    "●\tStandardized version of covariance.\n",
    "\n",
    "\n",
    "●\tRanges from -1 to 1.\n",
    "\n",
    "○\tr ≈ 1 → strong positive relationship\n",
    "\n",
    "○\tr ≈ -1 → strong negative relationship\n",
    "\n",
    "○\tr ≈ 0 → no linear relationship\n",
    "\n",
    "●\tHelps marketing team understand strength and direction of the relationship between ad spend and sales.\n"
   ]
  },
  {
   "cell_type": "code",
   "execution_count": 5,
   "id": "bc238ee2-0264-435b-ba2f-db93cb003de5",
   "metadata": {},
   "outputs": [
    {
     "name": "stdout",
     "output_type": "stream",
     "text": [
      "Covariance: 84875.0\n",
      "Correlation Coefficient: 0.9935824101653329\n"
     ]
    }
   ],
   "source": [
    "# CODE:-\n",
    "# Import required library\n",
    "import numpy as np\n",
    "\n",
    "# Given data\n",
    "advertising_spend = [200, 250, 300, 400, 500]\n",
    "daily_sales = [2200, 2450, 2750, 3200, 4000]\n",
    "\n",
    "# Convert to numpy arrays\n",
    "x = np.array(advertising_spend)\n",
    "y = np.array(daily_sales)\n",
    "\n",
    "# Compute covariance\n",
    "cov_matrix = np.cov(x, y)\n",
    "cov_xy = cov_matrix[0, 1]\n",
    "\n",
    "# Compute correlation coefficient\n",
    "corr_matrix = np.corrcoef(x, y)\n",
    "corr_xy = corr_matrix[0, 1]\n",
    "\n",
    "# Print results\n",
    "print(\"Covariance:\", cov_xy)\n",
    "print(\"Correlation Coefficient:\", corr_xy)\n"
   ]
  },
  {
   "cell_type": "markdown",
   "id": "cc5fc484-c3bc-40aa-85fe-5ad5d89926bd",
   "metadata": {},
   "source": [
    "Question 9: Your team has collected customer satisfaction survey data on a scale of 1-10 and wants to understand its distribution before launching a new product.\n",
    "●\tExplain which summary statistics and visualizations (e.g. mean, standard deviation, histogram) you’d use.\n",
    "●\tWrite Python code to create a histogram using Matplotlib for the survey data:\n",
    "\n",
    "Answer: Summary Statistics\n",
    "1.\tMean → Average satisfaction score.\n",
    "\n",
    "2.\tMedian → Middle value; useful if there are extreme scores.\n",
    "\n",
    "3.\tMode → Most common satisfaction score.\n",
    "\n",
    "4.\tStandard Deviation (SD) → Measures how spread out the scores are.\n",
    "\n",
    "5.\tRange / Min / Max → Gives the overall spread of scores.\n",
    "\n",
    "Visualizations:-\n",
    "1.\tHistogram → Shows how frequently each score occurs; visualizes distribution.\n",
    "\n",
    "2.\tBoxplot → Helps identify median, quartiles, and any outliers.\n",
    "\n",
    " Why?\n",
    "●\tHelps marketing team see the overall trend of customer satisfaction before product launch.\n",
    "\n",
    "●\tCan identify if most customers are satisfied (high scores) or if there are concerns (low scores).\n"
   ]
  },
  {
   "cell_type": "code",
   "execution_count": 6,
   "id": "8f6d0eb4-101c-442e-ab04-f68d276741f6",
   "metadata": {},
   "outputs": [
    {
     "data": {
      "image/png": "[encoded data removed]",
      "text/plain": [
       "<Figure size 640x480 with 1 Axes>"
      ]
     },
     "metadata": {},
     "output_type": "display_data"
    }
   ],
   "source": [
    "# CODE:-\n",
    "# Import required library\n",
    "import matplotlib.pyplot as plt\n",
    "#Survey data\n",
    "survey_scores = [7, 8, 5, 9, 6, 7, 8, 9, 10, 4, 7, 6, 9, 8, 7]\n",
    "\n",
    "# Create histogram\n",
    "plt.hist(survey_scores, bins=7, edgecolor='black', color='skyblue')\n",
    "plt.title(\"Histogram of Customer Satisfaction Scores\")\n",
    "plt.xlabel(\"Survey Score\")\n",
    "plt.ylabel(\"Frequency\")\n",
    "plt.xticks(range(4, 11))  # Set x-axis labels from 4 to 10\n",
    "plt.show()\n"
   ]
  },
  {
   "cell_type": "code",
   "execution_count": null,
   "id": "39254553-fed2-4365-b981-159e3bad2993",
   "metadata": {},
   "outputs": [],
   "source": []
  }
 ],
 "metadata": {
  "kernelspec": {
   "display_name": "Python 3 (ipykernel)",
   "language": "python",
   "name": "python3"
  },
  "language_info": {
   "codemirror_mode": {
    "name": "ipython",
    "version": 3
   },
   "file_extension": ".py",
   "mimetype": "text/x-python",
   "name": "python",
   "nbconvert_exporter": "python",
   "pygments_lexer": "ipython3",
   "version": "3.12.10"
  }
 },
 "nbformat": 4,
 "nbformat_minor": 5
}
